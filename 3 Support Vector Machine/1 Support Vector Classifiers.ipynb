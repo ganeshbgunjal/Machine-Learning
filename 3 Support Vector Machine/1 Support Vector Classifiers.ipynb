{
 "cells": [
  {
   "cell_type": "markdown",
   "id": "0025f84e-412e-492d-9cfe-245c635db0e4",
   "metadata": {},
   "source": [
    "## Support Vector Classifiers:"
   ]
  },
  {
   "cell_type": "markdown",
   "id": "9bc4257c-439b-4b0d-b5cd-90d1bda816d5",
   "metadata": {},
   "source": [
    "### What is a Support Vector Classifier (SVC)?\n",
    "\n",
    "A Support Vector Classifier (SVC) is a type of Support Vector Machine (SVM) used for classification problems.\n",
    "It tries to find the best boundary (decision line or plane) that separates data points of different classes."
   ]
  },
  {
   "cell_type": "markdown",
   "id": "a02d476a-111e-47a0-8e13-d81366783e87",
   "metadata": {},
   "source": [
    "### ⚙️ Core Idea\n",
    "\n",
    "Imagine your data plotted in space (2D, 3D, etc.).\n",
    "\n",
    "SVC tries to find a hyperplane that separates the classes with the maximum margin — meaning the largest possible distance between the hyperplane and the nearest points of each class.\n",
    "\n",
    "Those nearest points are called Support Vectors."
   ]
  },
  {
   "cell_type": "code",
   "execution_count": 1,
   "id": "9f611c6f-3c23-4812-8924-26f876f65edd",
   "metadata": {},
   "outputs": [],
   "source": [
    "import pandas as pd\n",
    "import numpy as np\n",
    "import seaborn as sns\n",
    "import matplotlib.pyplot as plt"
   ]
  },
  {
   "cell_type": "code",
   "execution_count": null,
   "id": "1052fdca-59ef-4a76-b172-c003740b5a47",
   "metadata": {},
   "outputs": [],
   "source": []
  }
 ],
 "metadata": {
  "kernelspec": {
   "display_name": "Python 3 (ipykernel)",
   "language": "python",
   "name": "python3"
  },
  "language_info": {
   "codemirror_mode": {
    "name": "ipython",
    "version": 3
   },
   "file_extension": ".py",
   "mimetype": "text/x-python",
   "name": "python",
   "nbconvert_exporter": "python",
   "pygments_lexer": "ipython3",
   "version": "3.13.5"
  }
 },
 "nbformat": 4,
 "nbformat_minor": 5
}
