{
 "cells": [
  {
   "cell_type": "markdown",
   "id": "04e7234f-d4c8-4b70-8010-0df63ffe778a",
   "metadata": {},
   "source": [
    "## Polynomial Regression:-"
   ]
  },
  {
   "cell_type": "code",
   "execution_count": 1,
   "id": "1c46afcf-74b0-4d31-90ad-21f75fb810ca",
   "metadata": {},
   "outputs": [],
   "source": [
    "import numpy as np\n",
    "import pandas as pd\n",
    "import matplotlib.pyplot as plt\n",
    "%matplotlib inline"
   ]
  },
  {
   "cell_type": "code",
   "execution_count": 2,
   "id": "34d5aba2-ec53-4028-baba-5293464871b7",
   "metadata": {},
   "outputs": [],
   "source": [
    "X = 6*np.random.rand(100,1)-3\n",
    "y = 0.5 * X**2 + 1.5*X + 2 + np.random.randn(100,1)"
   ]
  },
  {
   "cell_type": "markdown",
   "id": "95665cd0-416e-4879-8341-8b8cdb588b41",
   "metadata": {},
   "source": [
    "This is quadratic equation used y = 0.5X^2 + 1.5X + 2 + outliers"
   ]
  },
  {
   "cell_type": "code",
   "execution_count": 3,
   "id": "91b21032-c80f-497b-a33c-5e15ea59b463",
   "metadata": {},
   "outputs": [
    {
     "data": {
      "image/png": "[encoded data removed]",
      "text/plain": [
       "<Figure size 640x480 with 1 Axes>"
      ]
     },
     "metadata": {},
     "output_type": "display_data"
    }
   ],
   "source": [
    "plt.scatter(X,y,color = 'green')\n",
    "plt.xlabel('X dataset')\n",
    "plt.ylabel('Y dataset')\n",
    "# plt.grid()\n",
    "plt.show()"
   ]
  },
  {
   "cell_type": "code",
   "execution_count": 4,
   "id": "72b04fa8-80fe-4640-8561-8cbd6d1bd1b6",
   "metadata": {},
   "outputs": [],
   "source": [
    "from sklearn.model_selection import train_test_split\n",
    "X_train,X_test,y_train,y_test = train_test_split(X,y,test_size=0.2,random_state=42)"
   ]
  },
  {
   "cell_type": "code",
   "execution_count": 5,
   "id": "b04ea63c-f8ab-4784-985a-499eb434f8d4",
   "metadata": {},
   "outputs": [
    {
     "data": {
      "text/plain": [
       "array([[ 2.30493001],\n",
       "       [ 2.19757469],\n",
       "       [-2.88411225],\n",
       "       [-1.07024277],\n",
       "       [-1.63941163],\n",
       "       [-2.53508151],\n",
       "       [-0.78693313],\n",
       "       [-2.40729998],\n",
       "       [-0.67773925],\n",
       "       [ 0.97262131],\n",
       "       [-2.20649492],\n",
       "       [ 0.24811939],\n",
       "       [-0.61292362],\n",
       "       [ 1.31559653],\n",
       "       [ 1.30255586],\n",
       "       [ 1.94130705],\n",
       "       [-2.89517558],\n",
       "       [-2.67025378],\n",
       "       [ 1.29861185],\n",
       "       [-1.91803886],\n",
       "       [ 0.04892209],\n",
       "       [-1.81999999],\n",
       "       [ 2.93484946],\n",
       "       [ 1.13052975],\n",
       "       [-0.34567206],\n",
       "       [ 2.7565477 ],\n",
       "       [-2.06512784],\n",
       "       [-1.677261  ],\n",
       "       [ 0.07056637],\n",
       "       [-2.53485371],\n",
       "       [-2.58982554],\n",
       "       [ 0.68686113],\n",
       "       [ 2.14596361],\n",
       "       [-1.15070892],\n",
       "       [ 2.58886107],\n",
       "       [-0.68142193],\n",
       "       [ 2.2778297 ],\n",
       "       [ 1.62633883],\n",
       "       [-1.29831661],\n",
       "       [ 2.56334119],\n",
       "       [ 1.29116947],\n",
       "       [ 1.81226067],\n",
       "       [-2.07148299],\n",
       "       [-0.51086539],\n",
       "       [ 0.86077863],\n",
       "       [-2.92497164],\n",
       "       [ 0.57819187],\n",
       "       [ 2.97000331],\n",
       "       [ 0.24082915],\n",
       "       [-0.75148617],\n",
       "       [ 2.75419931],\n",
       "       [-0.12268192],\n",
       "       [-2.46356603],\n",
       "       [ 1.80203777],\n",
       "       [ 0.46313833],\n",
       "       [ 2.46468532],\n",
       "       [-0.86879641],\n",
       "       [ 0.60255334],\n",
       "       [-0.64960103],\n",
       "       [ 0.08448101],\n",
       "       [-0.85883916],\n",
       "       [ 1.59143453],\n",
       "       [-2.01009754],\n",
       "       [ 1.23268706],\n",
       "       [ 2.48964702],\n",
       "       [ 1.20444539],\n",
       "       [-2.63710273],\n",
       "       [ 0.61862946],\n",
       "       [-2.42078234],\n",
       "       [ 2.81968866],\n",
       "       [ 2.91293316],\n",
       "       [ 1.93858176],\n",
       "       [-1.27074776],\n",
       "       [ 1.37023019],\n",
       "       [ 1.83157713],\n",
       "       [ 2.68467931],\n",
       "       [ 0.74174591],\n",
       "       [-1.67741679],\n",
       "       [-0.5797595 ],\n",
       "       [ 1.66680853]])"
      ]
     },
     "execution_count": 5,
     "metadata": {},
     "output_type": "execute_result"
    }
   ],
   "source": [
    "X_train"
   ]
  },
  {
   "cell_type": "markdown",
   "id": "cc122fe2-000b-49a1-b5f3-064c5f1bb139",
   "metadata": {},
   "source": [
    "### Implement Simple linear regression"
   ]
  },
  {
   "cell_type": "code",
   "execution_count": 6,
   "id": "90ab0680-91e4-4f06-974e-f27fd426a47d",
   "metadata": {},
   "outputs": [],
   "source": [
    "from sklearn.linear_model import LinearRegression"
   ]
  },
  {
   "cell_type": "code",
   "execution_count": 7,
   "id": "408b9b7b-68ff-4a94-86f2-6e24313043c5",
   "metadata": {},
   "outputs": [],
   "source": [
    "regression = LinearRegression()"
   ]
  },
  {
   "cell_type": "code",
   "execution_count": 8,
   "id": "63945a98-5352-4f40-b25f-3ca575cfe2f9",
   "metadata": {},
   "outputs": [
    {
     "data": {
      "text/plain": [
       "'1.6.1'"
      ]
     },
     "execution_count": 8,
     "metadata": {},
     "output_type": "execute_result"
    }
   ],
   "source": [
    "import sklearn\n",
    "sklearn.__version__"
   ]
  },
  {
   "cell_type": "code",
   "execution_count": 9,
   "id": "d885ffbb-401d-4f70-819f-d8ec7fac795e",
   "metadata": {},
   "outputs": [
    {
     "data": {
      "text/html": [
       "<style>#sk-container-id-1 {\n",
       "  /* Definition of color scheme common for light and dark mode */\n",
       "  --sklearn-color-text: #000;\n",
       "  --sklearn-color-text-muted: #666;\n",
       "  --sklearn-color-line: gray;\n",
       "  /* Definition of color scheme for unfitted estimators */\n",
       "  --sklearn-color-unfitted-level-0: #fff5e6;\n",
       "  --sklearn-color-unfitted-level-1: #f6e4d2;\n",
       "  --sklearn-color-unfitted-level-2: #ffe0b3;\n",
       "  --sklearn-color-unfitted-level-3: chocolate;\n",
       "  /* Definition of color scheme for fitted estimators */\n",
       "  --sklearn-color-fitted-level-0: #f0f8ff;\n",
       "  --sklearn-color-fitted-level-1: #d4ebff;\n",
       "  --sklearn-color-fitted-level-2: #b3dbfd;\n",
       "  --sklearn-color-fitted-level-3: cornflowerblue;\n",
       "\n",
       "  /* Specific color for light theme */\n",
       "  --sklearn-color-text-on-default-background: var(--sg-text-color, var(--theme-code-foreground, var(--jp-content-font-color1, black)));\n",
       "  --sklearn-color-background: var(--sg-background-color, var(--theme-background, var(--jp-layout-color0, white)));\n",
       "  --sklearn-color-border-box: var(--sg-text-color, var(--theme-code-foreground, var(--jp-content-font-color1, black)));\n",
       "  --sklearn-color-icon: #696969;\n",
       "\n",
       "  @media (prefers-color-scheme: dark) {\n",
       "    /* Redefinition of color scheme for dark theme */\n",
       "    --sklearn-color-text-on-default-background: var(--sg-text-color, var(--theme-code-foreground, var(--jp-content-font-color1, white)));\n",
       "    --sklearn-color-background: var(--sg-background-color, var(--theme-background, var(--jp-layout-color0, #111)));\n",
       "    --sklearn-color-border-box: var(--sg-text-color, var(--theme-code-foreground, var(--jp-content-font-color1, white)));\n",
       "    --sklearn-color-icon: #878787;\n",
       "  }\n",
       "}\n",
       "\n",
       "#sk-container-id-1 {\n",
       "  color: var(--sklearn-color-text);\n",
       "}\n",
       "\n",
       "#sk-container-id-1 pre {\n",
       "  padding: 0;\n",
       "}\n",
       "\n",
       "#sk-container-id-1 input.sk-hidden--visually {\n",
       "  border: 0;\n",
       "  clip: rect(1px 1px 1px 1px);\n",
       "  clip: rect(1px, 1px, 1px, 1px);\n",
       "  height: 1px;\n",
       "  margin: -1px;\n",
       "  overflow: hidden;\n",
       "  padding: 0;\n",
       "  position: absolute;\n",
       "  width: 1px;\n",
       "}\n",
       "\n",
       "#sk-container-id-1 div.sk-dashed-wrapped {\n",
       "  border: 1px dashed var(--sklearn-color-line);\n",
       "  margin: 0 0.4em 0.5em 0.4em;\n",
       "  box-sizing: border-box;\n",
       "  padding-bottom: 0.4em;\n",
       "  background-color: var(--sklearn-color-background);\n",
       "}\n",
       "\n",
       "#sk-container-id-1 div.sk-container {\n",
       "  /* jupyter's `normalize.less` sets `[hidden] { display: none; }`\n",
       "     but bootstrap.min.css set `[hidden] { display: none !important; }`\n",
       "     so we also need the `!important` here to be able to override the\n",
       "     default hidden behavior on the sphinx rendered scikit-learn.org.\n",
       "     See: https://github.com/scikit-learn/scikit-learn/issues/21755 */\n",
       "  display: inline-block !important;\n",
       "  position: relative;\n",
       "}\n",
       "\n",
       "#sk-container-id-1 div.sk-text-repr-fallback {\n",
       "  display: none;\n",
       "}\n",
       "\n",
       "div.sk-parallel-item,\n",
       "div.sk-serial,\n",
       "div.sk-item {\n",
       "  /* draw centered vertical line to link estimators */\n",
       "  background-image: linear-gradient(var(--sklearn-color-text-on-default-background), var(--sklearn-color-text-on-default-background));\n",
       "  background-size: 2px 100%;\n",
       "  background-repeat: no-repeat;\n",
       "  background-position: center center;\n",
       "}\n",
       "\n",
       "/* Parallel-specific style estimator block */\n",
       "\n",
       "#sk-container-id-1 div.sk-parallel-item::after {\n",
       "  content: \"\";\n",
       "  width: 100%;\n",
       "  border-bottom: 2px solid var(--sklearn-color-text-on-default-background);\n",
       "  flex-grow: 1;\n",
       "}\n",
       "\n",
       "#sk-container-id-1 div.sk-parallel {\n",
       "  display: flex;\n",
       "  align-items: stretch;\n",
       "  justify-content: center;\n",
       "  background-color: var(--sklearn-color-background);\n",
       "  position: relative;\n",
       "}\n",
       "\n",
       "#sk-container-id-1 div.sk-parallel-item {\n",
       "  display: flex;\n",
       "  flex-direction: column;\n",
       "}\n",
       "\n",
       "#sk-container-id-1 div.sk-parallel-item:first-child::after {\n",
       "  align-self: flex-end;\n",
       "  width: 50%;\n",
       "}\n",
       "\n",
       "#sk-container-id-1 div.sk-parallel-item:last-child::after {\n",
       "  align-self: flex-start;\n",
       "  width: 50%;\n",
       "}\n",
       "\n",
       "#sk-container-id-1 div.sk-parallel-item:only-child::after {\n",
       "  width: 0;\n",
       "}\n",
       "\n",
       "/* Serial-specific style estimator block */\n",
       "\n",
       "#sk-container-id-1 div.sk-serial {\n",
       "  display: flex;\n",
       "  flex-direction: column;\n",
       "  align-items: center;\n",
       "  background-color: var(--sklearn-color-background);\n",
       "  padding-right: 1em;\n",
       "  padding-left: 1em;\n",
       "}\n",
       "\n",
       "\n",
       "/* Toggleable style: style used for estimator/Pipeline/ColumnTransformer box that is\n",
       "clickable and can be expanded/collapsed.\n",
       "- Pipeline and ColumnTransformer use this feature and define the default style\n",
       "- Estimators will overwrite some part of the style using the `sk-estimator` class\n",
       "*/\n",
       "\n",
       "/* Pipeline and ColumnTransformer style (default) */\n",
       "\n",
       "#sk-container-id-1 div.sk-toggleable {\n",
       "  /* Default theme specific background. It is overwritten whether we have a\n",
       "  specific estimator or a Pipeline/ColumnTransformer */\n",
       "  background-color: var(--sklearn-color-background);\n",
       "}\n",
       "\n",
       "/* Toggleable label */\n",
       "#sk-container-id-1 label.sk-toggleable__label {\n",
       "  cursor: pointer;\n",
       "  display: flex;\n",
       "  width: 100%;\n",
       "  margin-bottom: 0;\n",
       "  padding: 0.5em;\n",
       "  box-sizing: border-box;\n",
       "  text-align: center;\n",
       "  align-items: start;\n",
       "  justify-content: space-between;\n",
       "  gap: 0.5em;\n",
       "}\n",
       "\n",
       "#sk-container-id-1 label.sk-toggleable__label .caption {\n",
       "  font-size: 0.6rem;\n",
       "  font-weight: lighter;\n",
       "  color: var(--sklearn-color-text-muted);\n",
       "}\n",
       "\n",
       "#sk-container-id-1 label.sk-toggleable__label-arrow:before {\n",
       "  /* Arrow on the left of the label */\n",
       "  content: \"▸\";\n",
       "  float: left;\n",
       "  margin-right: 0.25em;\n",
       "  color: var(--sklearn-color-icon);\n",
       "}\n",
       "\n",
       "#sk-container-id-1 label.sk-toggleable__label-arrow:hover:before {\n",
       "  color: var(--sklearn-color-text);\n",
       "}\n",
       "\n",
       "/* Toggleable content - dropdown */\n",
       "\n",
       "#sk-container-id-1 div.sk-toggleable__content {\n",
       "  max-height: 0;\n",
       "  max-width: 0;\n",
       "  overflow: hidden;\n",
       "  text-align: left;\n",
       "  /* unfitted */\n",
       "  background-color: var(--sklearn-color-unfitted-level-0);\n",
       "}\n",
       "\n",
       "#sk-container-id-1 div.sk-toggleable__content.fitted {\n",
       "  /* fitted */\n",
       "  background-color: var(--sklearn-color-fitted-level-0);\n",
       "}\n",
       "\n",
       "#sk-container-id-1 div.sk-toggleable__content pre {\n",
       "  margin: 0.2em;\n",
       "  border-radius: 0.25em;\n",
       "  color: var(--sklearn-color-text);\n",
       "  /* unfitted */\n",
       "  background-color: var(--sklearn-color-unfitted-level-0);\n",
       "}\n",
       "\n",
       "#sk-container-id-1 div.sk-toggleable__content.fitted pre {\n",
       "  /* unfitted */\n",
       "  background-color: var(--sklearn-color-fitted-level-0);\n",
       "}\n",
       "\n",
       "#sk-container-id-1 input.sk-toggleable__control:checked~div.sk-toggleable__content {\n",
       "  /* Expand drop-down */\n",
       "  max-height: 200px;\n",
       "  max-width: 100%;\n",
       "  overflow: auto;\n",
       "}\n",
       "\n",
       "#sk-container-id-1 input.sk-toggleable__control:checked~label.sk-toggleable__label-arrow:before {\n",
       "  content: \"▾\";\n",
       "}\n",
       "\n",
       "/* Pipeline/ColumnTransformer-specific style */\n",
       "\n",
       "#sk-container-id-1 div.sk-label input.sk-toggleable__control:checked~label.sk-toggleable__label {\n",
       "  color: var(--sklearn-color-text);\n",
       "  background-color: var(--sklearn-color-unfitted-level-2);\n",
       "}\n",
       "\n",
       "#sk-container-id-1 div.sk-label.fitted input.sk-toggleable__control:checked~label.sk-toggleable__label {\n",
       "  background-color: var(--sklearn-color-fitted-level-2);\n",
       "}\n",
       "\n",
       "/* Estimator-specific style */\n",
       "\n",
       "/* Colorize estimator box */\n",
       "#sk-container-id-1 div.sk-estimator input.sk-toggleable__control:checked~label.sk-toggleable__label {\n",
       "  /* unfitted */\n",
       "  background-color: var(--sklearn-color-unfitted-level-2);\n",
       "}\n",
       "\n",
       "#sk-container-id-1 div.sk-estimator.fitted input.sk-toggleable__control:checked~label.sk-toggleable__label {\n",
       "  /* fitted */\n",
       "  background-color: var(--sklearn-color-fitted-level-2);\n",
       "}\n",
       "\n",
       "#sk-container-id-1 div.sk-label label.sk-toggleable__label,\n",
       "#sk-container-id-1 div.sk-label label {\n",
       "  /* The background is the default theme color */\n",
       "  color: var(--sklearn-color-text-on-default-background);\n",
       "}\n",
       "\n",
       "/* On hover, darken the color of the background */\n",
       "#sk-container-id-1 div.sk-label:hover label.sk-toggleable__label {\n",
       "  color: var(--sklearn-color-text);\n",
       "  background-color: var(--sklearn-color-unfitted-level-2);\n",
       "}\n",
       "\n",
       "/* Label box, darken color on hover, fitted */\n",
       "#sk-container-id-1 div.sk-label.fitted:hover label.sk-toggleable__label.fitted {\n",
       "  color: var(--sklearn-color-text);\n",
       "  background-color: var(--sklearn-color-fitted-level-2);\n",
       "}\n",
       "\n",
       "/* Estimator label */\n",
       "\n",
       "#sk-container-id-1 div.sk-label label {\n",
       "  font-family: monospace;\n",
       "  font-weight: bold;\n",
       "  display: inline-block;\n",
       "  line-height: 1.2em;\n",
       "}\n",
       "\n",
       "#sk-container-id-1 div.sk-label-container {\n",
       "  text-align: center;\n",
       "}\n",
       "\n",
       "/* Estimator-specific */\n",
       "#sk-container-id-1 div.sk-estimator {\n",
       "  font-family: monospace;\n",
       "  border: 1px dotted var(--sklearn-color-border-box);\n",
       "  border-radius: 0.25em;\n",
       "  box-sizing: border-box;\n",
       "  margin-bottom: 0.5em;\n",
       "  /* unfitted */\n",
       "  background-color: var(--sklearn-color-unfitted-level-0);\n",
       "}\n",
       "\n",
       "#sk-container-id-1 div.sk-estimator.fitted {\n",
       "  /* fitted */\n",
       "  background-color: var(--sklearn-color-fitted-level-0);\n",
       "}\n",
       "\n",
       "/* on hover */\n",
       "#sk-container-id-1 div.sk-estimator:hover {\n",
       "  /* unfitted */\n",
       "  background-color: var(--sklearn-color-unfitted-level-2);\n",
       "}\n",
       "\n",
       "#sk-container-id-1 div.sk-estimator.fitted:hover {\n",
       "  /* fitted */\n",
       "  background-color: var(--sklearn-color-fitted-level-2);\n",
       "}\n",
       "\n",
       "/* Specification for estimator info (e.g. \"i\" and \"?\") */\n",
       "\n",
       "/* Common style for \"i\" and \"?\" */\n",
       "\n",
       ".sk-estimator-doc-link,\n",
       "a:link.sk-estimator-doc-link,\n",
       "a:visited.sk-estimator-doc-link {\n",
       "  float: right;\n",
       "  font-size: smaller;\n",
       "  line-height: 1em;\n",
       "  font-family: monospace;\n",
       "  background-color: var(--sklearn-color-background);\n",
       "  border-radius: 1em;\n",
       "  height: 1em;\n",
       "  width: 1em;\n",
       "  text-decoration: none !important;\n",
       "  margin-left: 0.5em;\n",
       "  text-align: center;\n",
       "  /* unfitted */\n",
       "  border: var(--sklearn-color-unfitted-level-1) 1pt solid;\n",
       "  color: var(--sklearn-color-unfitted-level-1);\n",
       "}\n",
       "\n",
       ".sk-estimator-doc-link.fitted,\n",
       "a:link.sk-estimator-doc-link.fitted,\n",
       "a:visited.sk-estimator-doc-link.fitted {\n",
       "  /* fitted */\n",
       "  border: var(--sklearn-color-fitted-level-1) 1pt solid;\n",
       "  color: var(--sklearn-color-fitted-level-1);\n",
       "}\n",
       "\n",
       "/* On hover */\n",
       "div.sk-estimator:hover .sk-estimator-doc-link:hover,\n",
       ".sk-estimator-doc-link:hover,\n",
       "div.sk-label-container:hover .sk-estimator-doc-link:hover,\n",
       ".sk-estimator-doc-link:hover {\n",
       "  /* unfitted */\n",
       "  background-color: var(--sklearn-color-unfitted-level-3);\n",
       "  color: var(--sklearn-color-background);\n",
       "  text-decoration: none;\n",
       "}\n",
       "\n",
       "div.sk-estimator.fitted:hover .sk-estimator-doc-link.fitted:hover,\n",
       ".sk-estimator-doc-link.fitted:hover,\n",
       "div.sk-label-container:hover .sk-estimator-doc-link.fitted:hover,\n",
       ".sk-estimator-doc-link.fitted:hover {\n",
       "  /* fitted */\n",
       "  background-color: var(--sklearn-color-fitted-level-3);\n",
       "  color: var(--sklearn-color-background);\n",
       "  text-decoration: none;\n",
       "}\n",
       "\n",
       "/* Span, style for the box shown on hovering the info icon */\n",
       ".sk-estimator-doc-link span {\n",
       "  display: none;\n",
       "  z-index: 9999;\n",
       "  position: relative;\n",
       "  font-weight: normal;\n",
       "  right: .2ex;\n",
       "  padding: .5ex;\n",
       "  margin: .5ex;\n",
       "  width: min-content;\n",
       "  min-width: 20ex;\n",
       "  max-width: 50ex;\n",
       "  color: var(--sklearn-color-text);\n",
       "  box-shadow: 2pt 2pt 4pt #999;\n",
       "  /* unfitted */\n",
       "  background: var(--sklearn-color-unfitted-level-0);\n",
       "  border: .5pt solid var(--sklearn-color-unfitted-level-3);\n",
       "}\n",
       "\n",
       ".sk-estimator-doc-link.fitted span {\n",
       "  /* fitted */\n",
       "  background: var(--sklearn-color-fitted-level-0);\n",
       "  border: var(--sklearn-color-fitted-level-3);\n",
       "}\n",
       "\n",
       ".sk-estimator-doc-link:hover span {\n",
       "  display: block;\n",
       "}\n",
       "\n",
       "/* \"?\"-specific style due to the `<a>` HTML tag */\n",
       "\n",
       "#sk-container-id-1 a.estimator_doc_link {\n",
       "  float: right;\n",
       "  font-size: 1rem;\n",
       "  line-height: 1em;\n",
       "  font-family: monospace;\n",
       "  background-color: var(--sklearn-color-background);\n",
       "  border-radius: 1rem;\n",
       "  height: 1rem;\n",
       "  width: 1rem;\n",
       "  text-decoration: none;\n",
       "  /* unfitted */\n",
       "  color: var(--sklearn-color-unfitted-level-1);\n",
       "  border: var(--sklearn-color-unfitted-level-1) 1pt solid;\n",
       "}\n",
       "\n",
       "#sk-container-id-1 a.estimator_doc_link.fitted {\n",
       "  /* fitted */\n",
       "  border: var(--sklearn-color-fitted-level-1) 1pt solid;\n",
       "  color: var(--sklearn-color-fitted-level-1);\n",
       "}\n",
       "\n",
       "/* On hover */\n",
       "#sk-container-id-1 a.estimator_doc_link:hover {\n",
       "  /* unfitted */\n",
       "  background-color: var(--sklearn-color-unfitted-level-3);\n",
       "  color: var(--sklearn-color-background);\n",
       "  text-decoration: none;\n",
       "}\n",
       "\n",
       "#sk-container-id-1 a.estimator_doc_link.fitted:hover {\n",
       "  /* fitted */\n",
       "  background-color: var(--sklearn-color-fitted-level-3);\n",
       "}\n",
       "</style><div id=\"sk-container-id-1\" class=\"sk-top-container\"><div class=\"sk-text-repr-fallback\"><pre>LinearRegression()</pre><b>In a Jupyter environment, please rerun this cell to show the HTML representation or trust the notebook. <br />On GitHub, the HTML representation is unable to render, please try loading this page with nbviewer.org.</b></div><div class=\"sk-container\" hidden><div class=\"sk-item\"><div class=\"sk-estimator fitted sk-toggleable\"><input class=\"sk-toggleable__control sk-hidden--visually\" id=\"sk-estimator-id-1\" type=\"checkbox\" checked><label for=\"sk-estimator-id-1\" class=\"sk-toggleable__label fitted sk-toggleable__label-arrow\"><div><div>LinearRegression</div></div><div><a class=\"sk-estimator-doc-link fitted\" rel=\"noreferrer\" target=\"_blank\" href=\"https://scikit-learn.org/1.6/modules/generated/sklearn.linear_model.LinearRegression.html\">?<span>Documentation for LinearRegression</span></a><span class=\"sk-estimator-doc-link fitted\">i<span>Fitted</span></span></div></label><div class=\"sk-toggleable__content fitted\"><pre>LinearRegression()</pre></div> </div></div></div></div>"
      ],
      "text/plain": [
       "LinearRegression()"
      ]
     },
     "execution_count": 9,
     "metadata": {},
     "output_type": "execute_result"
    }
   ],
   "source": [
    " #Fit (train) the model\n",
    "regression.fit(X_train, y_train)"
   ]
  },
  {
   "cell_type": "code",
   "execution_count": 10,
   "id": "667e59c3-3710-4acf-8fdc-f4cbe146dc2e",
   "metadata": {},
   "outputs": [],
   "source": [
    "from sklearn.metrics import r2_score\n",
    "score = r2_score(y_test, regression.predict(X_test))"
   ]
  },
  {
   "cell_type": "code",
   "execution_count": 11,
   "id": "e9dc0d4c-bb3c-4a09-9138-ba6d970b13d5",
   "metadata": {},
   "outputs": [
    {
     "data": {
      "text/plain": [
       "0.7712774437282366"
      ]
     },
     "execution_count": 11,
     "metadata": {},
     "output_type": "execute_result"
    }
   ],
   "source": [
    "score"
   ]
  },
  {
   "cell_type": "markdown",
   "id": "e2a6dd93-26fa-4228-925b-46f9f50840a3",
   "metadata": {},
   "source": [
    "#### we got very less sscore because data in not linear."
   ]
  },
  {
   "cell_type": "markdown",
   "id": "43d6a756-0b59-4129-b7a2-16f0c91e7b89",
   "metadata": {},
   "source": [
    "### Lets visualize this model:-"
   ]
  },
  {
   "cell_type": "code",
   "execution_count": 12,
   "id": "730edd8d-6b21-46bb-bf83-dbbe2398fda5",
   "metadata": {},
   "outputs": [
    {
     "data": {
      "image/png": "[encoded data removed]",
      "text/plain": [
       "<Figure size 640x480 with 1 Axes>"
      ]
     },
     "metadata": {},
     "output_type": "display_data"
    }
   ],
   "source": [
    "plt.plot(X_train,regression.predict(X_train),color='r')\n",
    "plt.scatter(X_train,y_train)\n",
    "plt.xlabel('X Dataset')\n",
    "plt.ylabel('Y')\n",
    "plt.show()"
   ]
  },
  {
   "cell_type": "markdown",
   "id": "d4ca9580-0bef-4eda-a91d-916fdabed4ea",
   "metadata": {},
   "source": [
    "We can say that this is not best fit line. so this is not simple linear regession problem.   \n",
    "we have solve this is using polynomial regression. "
   ]
  },
  {
   "cell_type": "markdown",
   "id": "db51504c-f55a-41e4-b081-538ee4e2b91b",
   "metadata": {},
   "source": [
    "### Apply polynomial transformation:"
   ]
  },
  {
   "cell_type": "code",
   "execution_count": 13,
   "id": "dc27c910-8c53-47e9-8267-cd710e567cdc",
   "metadata": {},
   "outputs": [],
   "source": [
    "from sklearn.preprocessing import PolynomialFeatures"
   ]
  },
  {
   "cell_type": "code",
   "execution_count": 14,
   "id": "675fb9cc-70bd-496a-8573-a87cef1104db",
   "metadata": {},
   "outputs": [],
   "source": [
    "poly = PolynomialFeatures(degree=2, include_bias=True)\n",
    "X_train_poly = poly.fit_transform(X_train)\n",
    "X_test_poly = poly.transform(X_test)\n"
   ]
  },
  {
   "cell_type": "code",
   "execution_count": 15,
   "id": "19c41a61-8750-45c7-8492-0c02c279d8b8",
   "metadata": {},
   "outputs": [
    {
     "data": {
      "text/plain": [
       "array([[ 1.00000000e+00,  2.30493001e+00,  5.31270233e+00],\n",
       "       [ 1.00000000e+00,  2.19757469e+00,  4.82933452e+00],\n",
       "       [ 1.00000000e+00, -2.88411225e+00,  8.31810345e+00],\n",
       "       [ 1.00000000e+00, -1.07024277e+00,  1.14541959e+00],\n",
       "       [ 1.00000000e+00, -1.63941163e+00,  2.68767049e+00],\n",
       "       [ 1.00000000e+00, -2.53508151e+00,  6.42663825e+00],\n",
       "       [ 1.00000000e+00, -7.86933134e-01,  6.19263758e-01],\n",
       "       [ 1.00000000e+00, -2.40729998e+00,  5.79509319e+00],\n",
       "       [ 1.00000000e+00, -6.77739255e-01,  4.59330497e-01],\n",
       "       [ 1.00000000e+00,  9.72621305e-01,  9.45992203e-01],\n",
       "       [ 1.00000000e+00, -2.20649492e+00,  4.86861983e+00],\n",
       "       [ 1.00000000e+00,  2.48119386e-01,  6.15632295e-02],\n",
       "       [ 1.00000000e+00, -6.12923615e-01,  3.75675358e-01],\n",
       "       [ 1.00000000e+00,  1.31559653e+00,  1.73079422e+00],\n",
       "       [ 1.00000000e+00,  1.30255586e+00,  1.69665178e+00],\n",
       "       [ 1.00000000e+00,  1.94130705e+00,  3.76867306e+00],\n",
       "       [ 1.00000000e+00, -2.89517558e+00,  8.38204164e+00],\n",
       "       [ 1.00000000e+00, -2.67025378e+00,  7.13025524e+00],\n",
       "       [ 1.00000000e+00,  1.29861185e+00,  1.68639273e+00],\n",
       "       [ 1.00000000e+00, -1.91803886e+00,  3.67887307e+00],\n",
       "       [ 1.00000000e+00,  4.89220851e-02,  2.39337041e-03],\n",
       "       [ 1.00000000e+00, -1.81999999e+00,  3.31239996e+00],\n",
       "       [ 1.00000000e+00,  2.93484946e+00,  8.61334134e+00],\n",
       "       [ 1.00000000e+00,  1.13052975e+00,  1.27809752e+00],\n",
       "       [ 1.00000000e+00, -3.45672058e-01,  1.19489171e-01],\n",
       "       [ 1.00000000e+00,  2.75654770e+00,  7.59855520e+00],\n",
       "       [ 1.00000000e+00, -2.06512784e+00,  4.26475301e+00],\n",
       "       [ 1.00000000e+00, -1.67726100e+00,  2.81320446e+00],\n",
       "       [ 1.00000000e+00,  7.05663729e-02,  4.97961298e-03],\n",
       "       [ 1.00000000e+00, -2.53485371e+00,  6.42548331e+00],\n",
       "       [ 1.00000000e+00, -2.58982554e+00,  6.70719631e+00],\n",
       "       [ 1.00000000e+00,  6.86861128e-01,  4.71778209e-01],\n",
       "       [ 1.00000000e+00,  2.14596361e+00,  4.60515983e+00],\n",
       "       [ 1.00000000e+00, -1.15070892e+00,  1.32413103e+00],\n",
       "       [ 1.00000000e+00,  2.58886107e+00,  6.70220165e+00],\n",
       "       [ 1.00000000e+00, -6.81421934e-01,  4.64335852e-01],\n",
       "       [ 1.00000000e+00,  2.27782970e+00,  5.18850812e+00],\n",
       "       [ 1.00000000e+00,  1.62633883e+00,  2.64497800e+00],\n",
       "       [ 1.00000000e+00, -1.29831661e+00,  1.68562603e+00],\n",
       "       [ 1.00000000e+00,  2.56334119e+00,  6.57071804e+00],\n",
       "       [ 1.00000000e+00,  1.29116947e+00,  1.66711860e+00],\n",
       "       [ 1.00000000e+00,  1.81226067e+00,  3.28428875e+00],\n",
       "       [ 1.00000000e+00, -2.07148299e+00,  4.29104177e+00],\n",
       "       [ 1.00000000e+00, -5.10865386e-01,  2.60983443e-01],\n",
       "       [ 1.00000000e+00,  8.60778629e-01,  7.40939848e-01],\n",
       "       [ 1.00000000e+00, -2.92497164e+00,  8.55545909e+00],\n",
       "       [ 1.00000000e+00,  5.78191870e-01,  3.34305838e-01],\n",
       "       [ 1.00000000e+00,  2.97000331e+00,  8.82091963e+00],\n",
       "       [ 1.00000000e+00,  2.40829149e-01,  5.79986790e-02],\n",
       "       [ 1.00000000e+00, -7.51486174e-01,  5.64731469e-01],\n",
       "       [ 1.00000000e+00,  2.75419931e+00,  7.58561383e+00],\n",
       "       [ 1.00000000e+00, -1.22681921e-01,  1.50508537e-02],\n",
       "       [ 1.00000000e+00, -2.46356603e+00,  6.06915757e+00],\n",
       "       [ 1.00000000e+00,  1.80203777e+00,  3.24734013e+00],\n",
       "       [ 1.00000000e+00,  4.63138328e-01,  2.14497111e-01],\n",
       "       [ 1.00000000e+00,  2.46468532e+00,  6.07467372e+00],\n",
       "       [ 1.00000000e+00, -8.68796415e-01,  7.54807210e-01],\n",
       "       [ 1.00000000e+00,  6.02553335e-01,  3.63070522e-01],\n",
       "       [ 1.00000000e+00, -6.49601031e-01,  4.21981499e-01],\n",
       "       [ 1.00000000e+00,  8.44810097e-02,  7.13704100e-03],\n",
       "       [ 1.00000000e+00, -8.58839165e-01,  7.37604711e-01],\n",
       "       [ 1.00000000e+00,  1.59143453e+00,  2.53266388e+00],\n",
       "       [ 1.00000000e+00, -2.01009754e+00,  4.04049213e+00],\n",
       "       [ 1.00000000e+00,  1.23268706e+00,  1.51951740e+00],\n",
       "       [ 1.00000000e+00,  2.48964702e+00,  6.19834230e+00],\n",
       "       [ 1.00000000e+00,  1.20444539e+00,  1.45068869e+00],\n",
       "       [ 1.00000000e+00, -2.63710273e+00,  6.95431082e+00],\n",
       "       [ 1.00000000e+00,  6.18629455e-01,  3.82702403e-01],\n",
       "       [ 1.00000000e+00, -2.42078234e+00,  5.86018716e+00],\n",
       "       [ 1.00000000e+00,  2.81968866e+00,  7.95064415e+00],\n",
       "       [ 1.00000000e+00,  2.91293316e+00,  8.48517958e+00],\n",
       "       [ 1.00000000e+00,  1.93858176e+00,  3.75809925e+00],\n",
       "       [ 1.00000000e+00, -1.27074776e+00,  1.61479986e+00],\n",
       "       [ 1.00000000e+00,  1.37023019e+00,  1.87753077e+00],\n",
       "       [ 1.00000000e+00,  1.83157713e+00,  3.35467479e+00],\n",
       "       [ 1.00000000e+00,  2.68467931e+00,  7.20750300e+00],\n",
       "       [ 1.00000000e+00,  7.41745905e-01,  5.50186988e-01],\n",
       "       [ 1.00000000e+00, -1.67741679e+00,  2.81372708e+00],\n",
       "       [ 1.00000000e+00, -5.79759497e-01,  3.36121075e-01],\n",
       "       [ 1.00000000e+00,  1.66680853e+00,  2.77825067e+00]])"
      ]
     },
     "execution_count": 15,
     "metadata": {},
     "output_type": "execute_result"
    }
   ],
   "source": [
    "X_train_poly"
   ]
  },
  {
   "cell_type": "code",
   "execution_count": 16,
   "id": "792fee57-c7b6-4001-b802-2df753e8a558",
   "metadata": {},
   "outputs": [
    {
     "data": {
      "text/plain": [
       "array([[ 1.        ,  1.93008076,  3.72521175],\n",
       "       [ 1.        , -1.24099252,  1.54006243],\n",
       "       [ 1.        , -0.69122522,  0.47779231],\n",
       "       [ 1.        ,  0.51414155,  0.26434153],\n",
       "       [ 1.        , -0.53299107,  0.28407948],\n",
       "       [ 1.        ,  2.2207159 ,  4.93157911],\n",
       "       [ 1.        , -1.51333865,  2.29019388],\n",
       "       [ 1.        , -1.0720533 ,  1.14929828],\n",
       "       [ 1.        , -2.17312777,  4.72248429],\n",
       "       [ 1.        , -1.23823134,  1.53321686],\n",
       "       [ 1.        , -0.94734499,  0.89746252],\n",
       "       [ 1.        ,  1.87003492,  3.4970306 ],\n",
       "       [ 1.        , -1.59687302,  2.55000344],\n",
       "       [ 1.        , -1.03831801,  1.07810428],\n",
       "       [ 1.        ,  0.37614807,  0.14148737],\n",
       "       [ 1.        ,  2.4714979 ,  6.10830187],\n",
       "       [ 1.        ,  1.16648421,  1.36068541],\n",
       "       [ 1.        , -0.6015376 ,  0.36184748],\n",
       "       [ 1.        ,  2.18843226,  4.78923576],\n",
       "       [ 1.        , -1.88547783,  3.55502663]])"
      ]
     },
     "execution_count": 16,
     "metadata": {},
     "output_type": "execute_result"
    }
   ],
   "source": [
    "X_test_poly"
   ]
  },
  {
   "cell_type": "code",
   "execution_count": 17,
   "id": "c6d32551-8e90-4968-83be-aa3291c87ed5",
   "metadata": {},
   "outputs": [
    {
     "name": "stdout",
     "output_type": "stream",
     "text": [
      "0.9222290060676768\n"
     ]
    }
   ],
   "source": [
    "from sklearn.metrics import r2_score\n",
    "regression1 = LinearRegression()\n",
    "regression1.fit(X_train_poly,y_train)\n",
    "y_pred = regression1.predict(X_test_poly)\n",
    "score = r2_score(y_test,y_pred)\n",
    "print(score)"
   ]
  },
  {
   "cell_type": "markdown",
   "id": "925944dd-6e38-4dcf-b9c2-87e968efebf6",
   "metadata": {},
   "source": [
    "#### Here score is increased than simple linear regression."
   ]
  },
  {
   "cell_type": "code",
   "execution_count": 18,
   "id": "ffa3c1b3-e7f5-468b-9ede-2fc3fc095e2d",
   "metadata": {},
   "outputs": [
    {
     "data": {
      "text/plain": [
       "array([[0.        , 1.5622638 , 0.46847258]])"
      ]
     },
     "execution_count": 18,
     "metadata": {},
     "output_type": "execute_result"
    }
   ],
   "source": [
    "regression1.coef_"
   ]
  },
  {
   "cell_type": "markdown",
   "id": "a664dffa-2297-4d11-aadb-32795908f285",
   "metadata": {},
   "source": [
    "### Here in polynomial regression we have 3 features now."
   ]
  },
  {
   "cell_type": "code",
   "execution_count": 19,
   "id": "a36f2e63-f184-4cab-9a5f-12f48737b12b",
   "metadata": {},
   "outputs": [
    {
     "data": {
      "text/plain": [
       "array([2.01279585])"
      ]
     },
     "execution_count": 19,
     "metadata": {},
     "output_type": "execute_result"
    }
   ],
   "source": [
    "regression1.intercept_"
   ]
  },
  {
   "cell_type": "code",
   "execution_count": 22,
   "id": "5513ed7c-3f75-4167-ba45-be90402e31bc",
   "metadata": {},
   "outputs": [
    {
     "data": {
      "image/png": "[encoded data removed]",
      "text/plain": [
       "<Figure size 640x480 with 1 Axes>"
      ]
     },
     "metadata": {},
     "output_type": "display_data"
    }
   ],
   "source": [
    "plt.scatter(X_train, regression1.predict(X_train_poly))\n",
    "plt.scatter(X_train,y_train)\n",
    "plt.show()"
   ]
  },
  {
   "cell_type": "code",
   "execution_count": null,
   "id": "676f6a4d-87af-42c5-ac48-96908e78c0fb",
   "metadata": {},
   "outputs": [],
   "source": []
  }
 ],
 "metadata": {
  "kernelspec": {
   "display_name": "Python 3 (ipykernel)",
   "language": "python",
   "name": "python3"
  },
  "language_info": {
   "codemirror_mode": {
    "name": "ipython",
    "version": 3
   },
   "file_extension": ".py",
   "mimetype": "text/x-python",
   "name": "python",
   "nbconvert_exporter": "python",
   "pygments_lexer": "ipython3",
   "version": "3.13.5"
  }
 },
 "nbformat": 4,
 "nbformat_minor": 5
}
