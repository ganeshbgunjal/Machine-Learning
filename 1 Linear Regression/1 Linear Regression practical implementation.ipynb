{
 "cells": [
  {
   "cell_type": "markdown",
   "id": "e5f97ab3-9393-4ba0-b6e7-b56d6b782214",
   "metadata": {},
   "source": [
    "### Linear Regression:--"
   ]
  },
  {
   "cell_type": "code",
   "execution_count": null,
   "id": "ddc6f100-9a06-4a12-8e89-d02c2ae90548",
   "metadata": {},
   "outputs": [],
   "source": []
  }
 ],
 "metadata": {
  "kernelspec": {
   "display_name": "Python 3 (ipykernel)",
   "language": "python",
   "name": "python3"
  },
  "language_info": {
   "codemirror_mode": {
    "name": "ipython",
    "version": 3
   },
   "file_extension": ".py",
   "mimetype": "text/x-python",
   "name": "python",
   "nbconvert_exporter": "python",
   "pygments_lexer": "ipython3",
   "version": "3.13.5"
  }
 },
 "nbformat": 4,
 "nbformat_minor": 5
}
