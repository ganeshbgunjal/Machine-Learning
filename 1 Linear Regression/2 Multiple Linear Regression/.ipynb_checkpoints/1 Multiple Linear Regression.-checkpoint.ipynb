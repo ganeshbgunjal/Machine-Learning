{
 "cells": [
  {
   "cell_type": "markdown",
   "id": "361c3e55-d3ff-498d-b86b-2a29470cd4ac",
   "metadata": {},
   "source": [
    "## Multiple Linear Regression:--"
   ]
  },
  {
   "cell_type": "code",
   "execution_count": null,
   "id": "a484f636-108c-4fca-bac7-2023d3a76447",
   "metadata": {},
   "outputs": [],
   "source": []
  }
 ],
 "metadata": {
  "kernelspec": {
   "display_name": "Python 3 (ipykernel)",
   "language": "python",
   "name": "python3"
  },
  "language_info": {
   "codemirror_mode": {
    "name": "ipython",
    "version": 3
   },
   "file_extension": ".py",
   "mimetype": "text/x-python",
   "name": "python",
   "nbconvert_exporter": "python",
   "pygments_lexer": "ipython3",
   "version": "3.13.5"
  }
 },
 "nbformat": 4,
 "nbformat_minor": 5
}
