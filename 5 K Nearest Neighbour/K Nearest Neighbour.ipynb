{
 "cells": [
  {
   "cell_type": "markdown",
   "id": "9e8589b2-93d7-4a3c-ba6e-d301187ba174",
   "metadata": {},
   "source": [
    "## K Nearest Neighbour:"
   ]
  },
  {
   "cell_type": "code",
   "execution_count": null,
   "id": "68f0ea44-869e-4fc0-a80c-d750a4ab4f17",
   "metadata": {},
   "outputs": [],
   "source": []
  }
 ],
 "metadata": {
  "kernelspec": {
   "display_name": "Python 3 (ipykernel)",
   "language": "python",
   "name": "python3"
  },
  "language_info": {
   "codemirror_mode": {
    "name": "ipython",
    "version": 3
   },
   "file_extension": ".py",
   "mimetype": "text/x-python",
   "name": "python",
   "nbconvert_exporter": "python",
   "pygments_lexer": "ipython3",
   "version": "3.13.5"
  }
 },
 "nbformat": 4,
 "nbformat_minor": 5
}
