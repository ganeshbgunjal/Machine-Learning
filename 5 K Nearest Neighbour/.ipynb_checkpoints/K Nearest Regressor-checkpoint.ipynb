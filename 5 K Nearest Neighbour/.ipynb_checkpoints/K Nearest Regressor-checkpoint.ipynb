{
 "cells": [
  {
   "cell_type": "markdown",
   "id": "a6329b6c-1db3-4c24-b1d5-ddfa40975de0",
   "metadata": {},
   "source": [
    "## K Nearest Classifier:"
   ]
  },
  {
   "cell_type": "code",
   "execution_count": null,
   "id": "c88b32f7-0da7-4702-a6eb-b80cca00ae10",
   "metadata": {},
   "outputs": [],
   "source": []
  }
 ],
 "metadata": {
  "kernelspec": {
   "display_name": "Python 3 (ipykernel)",
   "language": "python",
   "name": "python3"
  },
  "language_info": {
   "codemirror_mode": {
    "name": "ipython",
    "version": 3
   },
   "file_extension": ".py",
   "mimetype": "text/x-python",
   "name": "python",
   "nbconvert_exporter": "python",
   "pygments_lexer": "ipython3",
   "version": "3.13.5"
  }
 },
 "nbformat": 4,
 "nbformat_minor": 5
}
