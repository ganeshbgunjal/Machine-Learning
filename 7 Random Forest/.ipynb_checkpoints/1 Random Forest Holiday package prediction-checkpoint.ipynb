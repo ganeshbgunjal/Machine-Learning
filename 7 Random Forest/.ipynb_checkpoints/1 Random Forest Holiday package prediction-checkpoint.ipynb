{
 "cells": [
  {
   "cell_type": "markdown",
   "id": "c395e9dd-841d-453e-9460-9605d0a366ed",
   "metadata": {},
   "source": [
    "## Holiday Package Prediction:-"
   ]
  },
  {
   "cell_type": "code",
   "execution_count": null,
   "id": "2a1ad95d-8d87-4272-a4f4-6aa883e0f0ff",
   "metadata": {},
   "outputs": [],
   "source": []
  }
 ],
 "metadata": {
  "kernelspec": {
   "display_name": "Python 3 (ipykernel)",
   "language": "python",
   "name": "python3"
  },
  "language_info": {
   "codemirror_mode": {
    "name": "ipython",
    "version": 3
   },
   "file_extension": ".py",
   "mimetype": "text/x-python",
   "name": "python",
   "nbconvert_exporter": "python",
   "pygments_lexer": "ipython3",
   "version": "3.13.5"
  }
 },
 "nbformat": 4,
 "nbformat_minor": 5
}
