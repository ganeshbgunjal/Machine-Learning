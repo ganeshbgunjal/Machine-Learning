{
 "cells": [
  {
   "cell_type": "markdown",
   "id": "3c385724-b18e-4914-a24b-a5bc6f448b7d",
   "metadata": {},
   "source": [
    "## Used Car Price Prediction"
   ]
  },
  {
   "cell_type": "code",
   "execution_count": null,
   "id": "acfd2d38-cb75-4df5-9349-8a598a6d30a6",
   "metadata": {},
   "outputs": [],
   "source": []
  }
 ],
 "metadata": {
  "kernelspec": {
   "display_name": "Python 3 (ipykernel)",
   "language": "python",
   "name": "python3"
  },
  "language_info": {
   "codemirror_mode": {
    "name": "ipython",
    "version": 3
   },
   "file_extension": ".py",
   "mimetype": "text/x-python",
   "name": "python",
   "nbconvert_exporter": "python",
   "pygments_lexer": "ipython3",
   "version": "3.13.5"
  }
 },
 "nbformat": 4,
 "nbformat_minor": 5
}
