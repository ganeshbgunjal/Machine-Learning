{
 "cells": [
  {
   "cell_type": "code",
   "execution_count": null,
   "id": "8b66b540-c93a-4326-9363-208e37defb55",
   "metadata": {},
   "outputs": [],
   "source": []
  }
 ],
 "metadata": {
  "kernelspec": {
   "display_name": "",
   "name": ""
  },
  "language_info": {
   "name": ""
  }
 },
 "nbformat": 4,
 "nbformat_minor": 5
}
