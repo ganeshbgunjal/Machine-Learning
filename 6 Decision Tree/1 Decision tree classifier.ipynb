{
 "cells": [
  {
   "cell_type": "markdown",
   "id": "80c3f97c-f622-4fef-954b-c87bca31bfb3",
   "metadata": {},
   "source": [
    "## 🌳 Decision Tree Classifier – Overview\n",
    "\n",
    "A Decision Tree Classifier is a supervised machine learning algorithm used for classification tasks (and regression if you use DecisionTreeRegressor).\n",
    "It splits data into branches using conditions based on feature values, forming a tree-like structure that leads to a prediction at the leaf nodes."
   ]
  },
  {
   "cell_type": "markdown",
   "id": "e2ae530d-252d-4e3a-a790-2c9da33f8a24",
   "metadata": {},
   "source": [
    "### ⚙️ How It Works\n",
    "\n",
    "Start with the dataset.\n",
    "\n",
    "Split the data at each node based on a feature that gives the best separation between classes.\n",
    "\n",
    "The splitting continues recursively until:\n",
    "\n",
    "The data is perfectly classified, or\n",
    "\n",
    "A stopping criterion (like max depth or min samples) is reached."
   ]
  },
  {
   "cell_type": "code",
   "execution_count": null,
   "id": "e0d285c4-edc0-4684-9847-bd05ea10716d",
   "metadata": {},
   "outputs": [],
   "source": []
  }
 ],
 "metadata": {
  "kernelspec": {
   "display_name": "Python 3 (ipykernel)",
   "language": "python",
   "name": "python3"
  },
  "language_info": {
   "codemirror_mode": {
    "name": "ipython",
    "version": 3
   },
   "file_extension": ".py",
   "mimetype": "text/x-python",
   "name": "python",
   "nbconvert_exporter": "python",
   "pygments_lexer": "ipython3",
   "version": "3.13.5"
  }
 },
 "nbformat": 4,
 "nbformat_minor": 5
}
