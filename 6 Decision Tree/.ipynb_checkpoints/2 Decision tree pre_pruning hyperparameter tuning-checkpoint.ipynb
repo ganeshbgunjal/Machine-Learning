{
 "cells": [
  {
   "cell_type": "markdown",
   "id": "61751ae7-cfe3-4bdb-94f6-db53d1b18630",
   "metadata": {},
   "source": [
    "## Decision Tree Pre_pruning:"
   ]
  },
  {
   "cell_type": "markdown",
   "id": "4939159a-66a8-44a9-b107-76d6f06eefdf",
   "metadata": {},
   "source": [
    "## What is Pre-Pruning?\n",
    "\n",
    "Pre-pruning (early stopping) means restricting the tree growth during training to prevent overfitting before it happens.\n",
    "It stops the tree from growing too deep or splitting unnecessarily.\n",
    "\n",
    "Without pruning, a decision tree keeps splitting until:\n",
    "\n",
    "Each leaf has only one sample, or\n",
    "\n",
    "All samples belong to the same class → this causes overfitting."
   ]
  },
  {
   "cell_type": "code",
   "execution_count": null,
   "id": "efdc040e-7437-479f-aade-1a2b00c7f8d1",
   "metadata": {},
   "outputs": [],
   "source": []
  }
 ],
 "metadata": {
  "kernelspec": {
   "display_name": "Python 3 (ipykernel)",
   "language": "python",
   "name": "python3"
  },
  "language_info": {
   "codemirror_mode": {
    "name": "ipython",
    "version": 3
   },
   "file_extension": ".py",
   "mimetype": "text/x-python",
   "name": "python",
   "nbconvert_exporter": "python",
   "pygments_lexer": "ipython3",
   "version": "3.13.5"
  }
 },
 "nbformat": 4,
 "nbformat_minor": 5
}
