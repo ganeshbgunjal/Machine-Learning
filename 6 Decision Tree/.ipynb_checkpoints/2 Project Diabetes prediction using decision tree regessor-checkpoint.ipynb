{
 "cells": [
  {
   "cell_type": "markdown",
   "id": "e5d4012e-3fd6-4c3f-aeb7-f24d83841297",
   "metadata": {},
   "source": [
    "## Project Diabetes prediction using decision tree regessor:-"
   ]
  },
  {
   "cell_type": "code",
   "execution_count": null,
   "id": "31b275d8-9f09-4efa-99a9-ab3dd659952b",
   "metadata": {},
   "outputs": [],
   "source": []
  }
 ],
 "metadata": {
  "kernelspec": {
   "display_name": "Python 3 (ipykernel)",
   "language": "python",
   "name": "python3"
  },
  "language_info": {
   "codemirror_mode": {
    "name": "ipython",
    "version": 3
   },
   "file_extension": ".py",
   "mimetype": "text/x-python",
   "name": "python",
   "nbconvert_exporter": "python",
   "pygments_lexer": "ipython3",
   "version": "3.13.5"
  }
 },
 "nbformat": 4,
 "nbformat_minor": 5
}
